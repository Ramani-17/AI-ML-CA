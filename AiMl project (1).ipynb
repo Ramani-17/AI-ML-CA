{
 "cells": [
  {
   "cell_type": "code",
   "execution_count": 1,
   "id": "cca110f0",
   "metadata": {
    "scrolled": true
   },
   "outputs": [],
   "source": [
    "import pandas as pd\n",
    "import numpy as np\n",
    "import glob\n",
    "import os\n",
    "import matplotlib.pyplot as plt\n",
    "from sklearn.model_selection import train_test_split\n",
    "from sklearn.preprocessing import MinMaxScaler\n",
    "from sklearn.ensemble import RandomForestClassifier, IsolationForest\n",
    "from sklearn.metrics import confusion_matrix, classification_report, precision_score, recall_score, f1_score, accuracy_score\n",
    "from sklearn.utils import resample"
   ]
  },
  {
   "cell_type": "code",
   "execution_count": 5,
   "id": "a17907f8",
   "metadata": {
    "scrolled": true
   },
   "outputs": [
    {
     "name": "stdout",
     "output_type": "stream",
     "text": [
      "Total CSV files found: 85\n",
      "C:\\\\Users\\\\LENOVO\\\\Desktop\\\\Aiml-Ca\\demonstrate_structure.csv\n",
      "C:\\\\Users\\\\LENOVO\\\\Desktop\\\\Aiml-Ca\\Danmini_Doorbell\\ack.csv\n",
      "C:\\\\Users\\\\LENOVO\\\\Desktop\\\\Aiml-Ca\\Danmini_Doorbell\\benign_traffic.csv\n",
      "C:\\\\Users\\\\LENOVO\\\\Desktop\\\\Aiml-Ca\\Danmini_Doorbell\\combo.csv\n",
      "C:\\\\Users\\\\LENOVO\\\\Desktop\\\\Aiml-Ca\\Danmini_Doorbell\\junk.csv\n",
      "C:\\\\Users\\\\LENOVO\\\\Desktop\\\\Aiml-Ca\\Danmini_Doorbell\\scan.csv\n",
      "C:\\\\Users\\\\LENOVO\\\\Desktop\\\\Aiml-Ca\\Danmini_Doorbell\\syn.csv\n",
      "C:\\\\Users\\\\LENOVO\\\\Desktop\\\\Aiml-Ca\\Danmini_Doorbell\\tcp.csv\n",
      "C:\\\\Users\\\\LENOVO\\\\Desktop\\\\Aiml-Ca\\Danmini_Doorbell\\udp.csv\n",
      "C:\\\\Users\\\\LENOVO\\\\Desktop\\\\Aiml-Ca\\Danmini_Doorbell\\udpplain.csv\n",
      "C:\\\\Users\\\\LENOVO\\\\Desktop\\\\Aiml-Ca\\Ecobee_Thermostat\\ack.csv\n",
      "C:\\\\Users\\\\LENOVO\\\\Desktop\\\\Aiml-Ca\\Ecobee_Thermostat\\benign_traffic.csv\n",
      "C:\\\\Users\\\\LENOVO\\\\Desktop\\\\Aiml-Ca\\Ecobee_Thermostat\\combo.csv\n",
      "C:\\\\Users\\\\LENOVO\\\\Desktop\\\\Aiml-Ca\\Ecobee_Thermostat\\junk.csv\n",
      "C:\\\\Users\\\\LENOVO\\\\Desktop\\\\Aiml-Ca\\Ecobee_Thermostat\\scan.csv\n",
      "C:\\\\Users\\\\LENOVO\\\\Desktop\\\\Aiml-Ca\\Ecobee_Thermostat\\syn.csv\n",
      "C:\\\\Users\\\\LENOVO\\\\Desktop\\\\Aiml-Ca\\Ecobee_Thermostat\\tcp.csv\n",
      "C:\\\\Users\\\\LENOVO\\\\Desktop\\\\Aiml-Ca\\Ecobee_Thermostat\\udp.csv\n",
      "C:\\\\Users\\\\LENOVO\\\\Desktop\\\\Aiml-Ca\\Ecobee_Thermostat\\udpplain.csv\n",
      "C:\\\\Users\\\\LENOVO\\\\Desktop\\\\Aiml-Ca\\Ennio_Doorbell\\benign_traffic.csv\n",
      "C:\\\\Users\\\\LENOVO\\\\Desktop\\\\Aiml-Ca\\Ennio_Doorbell\\combo.csv\n",
      "C:\\\\Users\\\\LENOVO\\\\Desktop\\\\Aiml-Ca\\Ennio_Doorbell\\junk.csv\n",
      "C:\\\\Users\\\\LENOVO\\\\Desktop\\\\Aiml-Ca\\Ennio_Doorbell\\scan.csv\n",
      "C:\\\\Users\\\\LENOVO\\\\Desktop\\\\Aiml-Ca\\Ennio_Doorbell\\tcp.csv\n",
      "C:\\\\Users\\\\LENOVO\\\\Desktop\\\\Aiml-Ca\\Ennio_Doorbell\\udp.csv\n",
      "C:\\\\Users\\\\LENOVO\\\\Desktop\\\\Aiml-Ca\\Philips_B120N10_Baby_Monitor\\ack.csv\n",
      "C:\\\\Users\\\\LENOVO\\\\Desktop\\\\Aiml-Ca\\Philips_B120N10_Baby_Monitor\\benign_traffic.csv\n",
      "C:\\\\Users\\\\LENOVO\\\\Desktop\\\\Aiml-Ca\\Philips_B120N10_Baby_Monitor\\combo.csv\n",
      "C:\\\\Users\\\\LENOVO\\\\Desktop\\\\Aiml-Ca\\Philips_B120N10_Baby_Monitor\\junk.csv\n",
      "C:\\\\Users\\\\LENOVO\\\\Desktop\\\\Aiml-Ca\\Philips_B120N10_Baby_Monitor\\scan.csv\n",
      "C:\\\\Users\\\\LENOVO\\\\Desktop\\\\Aiml-Ca\\Philips_B120N10_Baby_Monitor\\syn.csv\n",
      "C:\\\\Users\\\\LENOVO\\\\Desktop\\\\Aiml-Ca\\Philips_B120N10_Baby_Monitor\\tcp.csv\n",
      "C:\\\\Users\\\\LENOVO\\\\Desktop\\\\Aiml-Ca\\Philips_B120N10_Baby_Monitor\\udp.csv\n",
      "C:\\\\Users\\\\LENOVO\\\\Desktop\\\\Aiml-Ca\\Philips_B120N10_Baby_Monitor\\udpplain.csv\n",
      "C:\\\\Users\\\\LENOVO\\\\Desktop\\\\Aiml-Ca\\Provision_PT_737E_Security_Camera\\ack.csv\n",
      "C:\\\\Users\\\\LENOVO\\\\Desktop\\\\Aiml-Ca\\Provision_PT_737E_Security_Camera\\benign_traffic.csv\n",
      "C:\\\\Users\\\\LENOVO\\\\Desktop\\\\Aiml-Ca\\Provision_PT_737E_Security_Camera\\combo.csv\n",
      "C:\\\\Users\\\\LENOVO\\\\Desktop\\\\Aiml-Ca\\Provision_PT_737E_Security_Camera\\junk.csv\n",
      "C:\\\\Users\\\\LENOVO\\\\Desktop\\\\Aiml-Ca\\Provision_PT_737E_Security_Camera\\scan.csv\n",
      "C:\\\\Users\\\\LENOVO\\\\Desktop\\\\Aiml-Ca\\Provision_PT_737E_Security_Camera\\syn.csv\n",
      "C:\\\\Users\\\\LENOVO\\\\Desktop\\\\Aiml-Ca\\Provision_PT_737E_Security_Camera\\tcp.csv\n",
      "C:\\\\Users\\\\LENOVO\\\\Desktop\\\\Aiml-Ca\\Provision_PT_737E_Security_Camera\\udp.csv\n",
      "C:\\\\Users\\\\LENOVO\\\\Desktop\\\\Aiml-Ca\\Provision_PT_737E_Security_Camera\\udpplain.csv\n",
      "C:\\\\Users\\\\LENOVO\\\\Desktop\\\\Aiml-Ca\\Provision_PT_737E_Security_Camera\\SimpleHome_XCS7_1003_WHT_Security_Camera\\ack.csv\n",
      "C:\\\\Users\\\\LENOVO\\\\Desktop\\\\Aiml-Ca\\Provision_PT_737E_Security_Camera\\SimpleHome_XCS7_1003_WHT_Security_Camera\\benign_traffic.csv\n",
      "C:\\\\Users\\\\LENOVO\\\\Desktop\\\\Aiml-Ca\\Provision_PT_737E_Security_Camera\\SimpleHome_XCS7_1003_WHT_Security_Camera\\combo.csv\n",
      "C:\\\\Users\\\\LENOVO\\\\Desktop\\\\Aiml-Ca\\Provision_PT_737E_Security_Camera\\SimpleHome_XCS7_1003_WHT_Security_Camera\\junk.csv\n",
      "C:\\\\Users\\\\LENOVO\\\\Desktop\\\\Aiml-Ca\\Provision_PT_737E_Security_Camera\\SimpleHome_XCS7_1003_WHT_Security_Camera\\scan.csv\n",
      "C:\\\\Users\\\\LENOVO\\\\Desktop\\\\Aiml-Ca\\Provision_PT_737E_Security_Camera\\SimpleHome_XCS7_1003_WHT_Security_Camera\\syn.csv\n",
      "C:\\\\Users\\\\LENOVO\\\\Desktop\\\\Aiml-Ca\\Provision_PT_737E_Security_Camera\\SimpleHome_XCS7_1003_WHT_Security_Camera\\tcp.csv\n",
      "C:\\\\Users\\\\LENOVO\\\\Desktop\\\\Aiml-Ca\\Provision_PT_737E_Security_Camera\\SimpleHome_XCS7_1003_WHT_Security_Camera\\udp.csv\n",
      "C:\\\\Users\\\\LENOVO\\\\Desktop\\\\Aiml-Ca\\Provision_PT_737E_Security_Camera\\SimpleHome_XCS7_1003_WHT_Security_Camera\\udpplain.csv\n",
      "C:\\\\Users\\\\LENOVO\\\\Desktop\\\\Aiml-Ca\\Provision_PT_838_Security_Camera\\ack.csv\n",
      "C:\\\\Users\\\\LENOVO\\\\Desktop\\\\Aiml-Ca\\Provision_PT_838_Security_Camera\\benign_traffic.csv\n",
      "C:\\\\Users\\\\LENOVO\\\\Desktop\\\\Aiml-Ca\\Provision_PT_838_Security_Camera\\combo.csv\n",
      "C:\\\\Users\\\\LENOVO\\\\Desktop\\\\Aiml-Ca\\Provision_PT_838_Security_Camera\\junk.csv\n",
      "C:\\\\Users\\\\LENOVO\\\\Desktop\\\\Aiml-Ca\\Provision_PT_838_Security_Camera\\scan.csv\n",
      "C:\\\\Users\\\\LENOVO\\\\Desktop\\\\Aiml-Ca\\Provision_PT_838_Security_Camera\\syn.csv\n",
      "C:\\\\Users\\\\LENOVO\\\\Desktop\\\\Aiml-Ca\\Provision_PT_838_Security_Camera\\tcp.csv\n",
      "C:\\\\Users\\\\LENOVO\\\\Desktop\\\\Aiml-Ca\\Provision_PT_838_Security_Camera\\udp.csv\n",
      "C:\\\\Users\\\\LENOVO\\\\Desktop\\\\Aiml-Ca\\Provision_PT_838_Security_Camera\\udpplain.csv\n",
      "C:\\\\Users\\\\LENOVO\\\\Desktop\\\\Aiml-Ca\\Samsung_SNH_1011_N_Webcam\\benign_traffic.csv\n",
      "C:\\\\Users\\\\LENOVO\\\\Desktop\\\\Aiml-Ca\\Samsung_SNH_1011_N_Webcam\\combo.csv\n",
      "C:\\\\Users\\\\LENOVO\\\\Desktop\\\\Aiml-Ca\\Samsung_SNH_1011_N_Webcam\\junk.csv\n",
      "C:\\\\Users\\\\LENOVO\\\\Desktop\\\\Aiml-Ca\\Samsung_SNH_1011_N_Webcam\\scan.csv\n",
      "C:\\\\Users\\\\LENOVO\\\\Desktop\\\\Aiml-Ca\\Samsung_SNH_1011_N_Webcam\\tcp.csv\n",
      "C:\\\\Users\\\\LENOVO\\\\Desktop\\\\Aiml-Ca\\Samsung_SNH_1011_N_Webcam\\udp.csv\n",
      "C:\\\\Users\\\\LENOVO\\\\Desktop\\\\Aiml-Ca\\SimpleHome_XCS7_1002_WHT_Security_Camera\\ack.csv\n",
      "C:\\\\Users\\\\LENOVO\\\\Desktop\\\\Aiml-Ca\\SimpleHome_XCS7_1002_WHT_Security_Camera\\benign_traffic.csv\n",
      "C:\\\\Users\\\\LENOVO\\\\Desktop\\\\Aiml-Ca\\SimpleHome_XCS7_1002_WHT_Security_Camera\\combo.csv\n",
      "C:\\\\Users\\\\LENOVO\\\\Desktop\\\\Aiml-Ca\\SimpleHome_XCS7_1002_WHT_Security_Camera\\junk.csv\n",
      "C:\\\\Users\\\\LENOVO\\\\Desktop\\\\Aiml-Ca\\SimpleHome_XCS7_1002_WHT_Security_Camera\\scan.csv\n",
      "C:\\\\Users\\\\LENOVO\\\\Desktop\\\\Aiml-Ca\\SimpleHome_XCS7_1002_WHT_Security_Camera\\syn.csv\n",
      "C:\\\\Users\\\\LENOVO\\\\Desktop\\\\Aiml-Ca\\SimpleHome_XCS7_1002_WHT_Security_Camera\\tcp.csv\n",
      "C:\\\\Users\\\\LENOVO\\\\Desktop\\\\Aiml-Ca\\SimpleHome_XCS7_1002_WHT_Security_Camera\\udp.csv\n",
      "C:\\\\Users\\\\LENOVO\\\\Desktop\\\\Aiml-Ca\\SimpleHome_XCS7_1002_WHT_Security_Camera\\udpplain.csv\n",
      "C:\\\\Users\\\\LENOVO\\\\Desktop\\\\Aiml-Ca\\SimpleHome_XCS7_1003_WHT_Security_Camera\\ack.csv\n",
      "C:\\\\Users\\\\LENOVO\\\\Desktop\\\\Aiml-Ca\\SimpleHome_XCS7_1003_WHT_Security_Camera\\benign_traffic.csv\n",
      "C:\\\\Users\\\\LENOVO\\\\Desktop\\\\Aiml-Ca\\SimpleHome_XCS7_1003_WHT_Security_Camera\\combo.csv\n",
      "C:\\\\Users\\\\LENOVO\\\\Desktop\\\\Aiml-Ca\\SimpleHome_XCS7_1003_WHT_Security_Camera\\junk.csv\n",
      "C:\\\\Users\\\\LENOVO\\\\Desktop\\\\Aiml-Ca\\SimpleHome_XCS7_1003_WHT_Security_Camera\\scan.csv\n",
      "C:\\\\Users\\\\LENOVO\\\\Desktop\\\\Aiml-Ca\\SimpleHome_XCS7_1003_WHT_Security_Camera\\syn.csv\n",
      "C:\\\\Users\\\\LENOVO\\\\Desktop\\\\Aiml-Ca\\SimpleHome_XCS7_1003_WHT_Security_Camera\\tcp.csv\n",
      "C:\\\\Users\\\\LENOVO\\\\Desktop\\\\Aiml-Ca\\SimpleHome_XCS7_1003_WHT_Security_Camera\\udp.csv\n",
      "C:\\\\Users\\\\LENOVO\\\\Desktop\\\\Aiml-Ca\\SimpleHome_XCS7_1003_WHT_Security_Camera\\udpplain.csv\n"
     ]
    }
   ],
   "source": [
    "root_folder = r'C:\\\\Users\\\\LENOVO\\\\Desktop\\\\Aiml-Ca'  \n",
    "\n",
    "# Find all CSV files\n",
    "all_files = glob.glob(os.path.join(root_folder, '**', '*.csv'), recursive=True)\n",
    "\n",
    "print(f\"Total CSV files found: {len(all_files)}\")\n",
    "for file in all_files:\n",
    "    print(file)"
   ]
  },
  {
   "cell_type": "code",
   "execution_count": 3,
   "id": "b51d7b95",
   "metadata": {},
   "outputs": [
    {
     "name": "stdout",
     "output_type": "stream",
     "text": [
      "\n",
      "Unique columns found across all CSV files (115 columns):\n",
      "HH_L0.01_covariance\n",
      "HH_L0.01_magnitude\n",
      "HH_L0.01_mean\n",
      "HH_L0.01_pcc\n",
      "HH_L0.01_radius\n",
      "HH_L0.01_std\n",
      "HH_L0.01_weight\n",
      "HH_L0.1_covariance\n",
      "HH_L0.1_magnitude\n",
      "HH_L0.1_mean\n",
      "HH_L0.1_pcc\n",
      "HH_L0.1_radius\n",
      "HH_L0.1_std\n",
      "HH_L0.1_weight\n",
      "HH_L1_covariance\n",
      "HH_L1_magnitude\n",
      "HH_L1_mean\n",
      "HH_L1_pcc\n",
      "HH_L1_radius\n",
      "HH_L1_std\n",
      "HH_L1_weight\n",
      "HH_L3_covariance\n",
      "HH_L3_magnitude\n",
      "HH_L3_mean\n",
      "HH_L3_pcc\n",
      "HH_L3_radius\n",
      "HH_L3_std\n",
      "HH_L3_weight\n",
      "HH_L5_covariance\n",
      "HH_L5_magnitude\n",
      "HH_L5_mean\n",
      "HH_L5_pcc\n",
      "HH_L5_radius\n",
      "HH_L5_std\n",
      "HH_L5_weight\n",
      "HH_jit_L0.01_mean\n",
      "HH_jit_L0.01_variance\n",
      "HH_jit_L0.01_weight\n",
      "HH_jit_L0.1_mean\n",
      "HH_jit_L0.1_variance\n",
      "HH_jit_L0.1_weight\n",
      "HH_jit_L1_mean\n",
      "HH_jit_L1_variance\n",
      "HH_jit_L1_weight\n",
      "HH_jit_L3_mean\n",
      "HH_jit_L3_variance\n",
      "HH_jit_L3_weight\n",
      "HH_jit_L5_mean\n",
      "HH_jit_L5_variance\n",
      "HH_jit_L5_weight\n",
      "H_L0.01_mean\n",
      "H_L0.01_variance\n",
      "H_L0.01_weight\n",
      "H_L0.1_mean\n",
      "H_L0.1_variance\n",
      "H_L0.1_weight\n",
      "H_L1_mean\n",
      "H_L1_variance\n",
      "H_L1_weight\n",
      "H_L3_mean\n",
      "H_L3_variance\n",
      "H_L3_weight\n",
      "H_L5_mean\n",
      "H_L5_variance\n",
      "H_L5_weight\n",
      "HpHp_L0.01_covariance\n",
      "HpHp_L0.01_magnitude\n",
      "HpHp_L0.01_mean\n",
      "HpHp_L0.01_pcc\n",
      "HpHp_L0.01_radius\n",
      "HpHp_L0.01_std\n",
      "HpHp_L0.01_weight\n",
      "HpHp_L0.1_covariance\n",
      "HpHp_L0.1_magnitude\n",
      "HpHp_L0.1_mean\n",
      "HpHp_L0.1_pcc\n",
      "HpHp_L0.1_radius\n",
      "HpHp_L0.1_std\n",
      "HpHp_L0.1_weight\n",
      "HpHp_L1_covariance\n",
      "HpHp_L1_magnitude\n",
      "HpHp_L1_mean\n",
      "HpHp_L1_pcc\n",
      "HpHp_L1_radius\n",
      "HpHp_L1_std\n",
      "HpHp_L1_weight\n",
      "HpHp_L3_covariance\n",
      "HpHp_L3_magnitude\n",
      "HpHp_L3_mean\n",
      "HpHp_L3_pcc\n",
      "HpHp_L3_radius\n",
      "HpHp_L3_std\n",
      "HpHp_L3_weight\n",
      "HpHp_L5_covariance\n",
      "HpHp_L5_magnitude\n",
      "HpHp_L5_mean\n",
      "HpHp_L5_pcc\n",
      "HpHp_L5_radius\n",
      "HpHp_L5_std\n",
      "HpHp_L5_weight\n",
      "MI_dir_L0.01_mean\n",
      "MI_dir_L0.01_variance\n",
      "MI_dir_L0.01_weight\n",
      "MI_dir_L0.1_mean\n",
      "MI_dir_L0.1_variance\n",
      "MI_dir_L0.1_weight\n",
      "MI_dir_L1_mean\n",
      "MI_dir_L1_variance\n",
      "MI_dir_L1_weight\n",
      "MI_dir_L3_mean\n",
      "MI_dir_L3_variance\n",
      "MI_dir_L3_weight\n",
      "MI_dir_L5_mean\n",
      "MI_dir_L5_variance\n",
      "MI_dir_L5_weight\n"
     ]
    }
   ],
   "source": [
    "unique_columns = set()\n",
    "\n",
    "for file in all_files:\n",
    "    try:\n",
    "        df_temp = pd.read_csv(file, nrows=1)  \n",
    "        unique_columns.update(df_temp.columns.tolist())\n",
    "    except Exception as e:\n",
    "        print(f\"Error reading {file}: {e}\")\n",
    "\n",
    "print(f\"\\nUnique columns found across all CSV files ({len(unique_columns)} columns):\")\n",
    "for col in sorted(unique_columns):\n",
    "    print(col)\n"
   ]
  },
  {
   "cell_type": "code",
   "execution_count": 4,
   "id": "7d462d2a",
   "metadata": {},
   "outputs": [
    {
     "name": "stderr",
     "output_type": "stream",
     "text": [
      "Loading files: 100%|███████████████████████████████████████████████████████████████████| 85/85 [00:09<00:00,  8.82it/s]\n"
     ]
    },
    {
     "name": "stdout",
     "output_type": "stream",
     "text": [
      "Done loading! Total samples: 840000\n"
     ]
    }
   ],
   "source": [
    "from tqdm import tqdm  # progress bar\n",
    "\n",
    "# Define important columns to load\n",
    "selected_features = [\n",
    "    'HH_L0.01_mean', 'HH_L0.1_mean', 'HH_L1_mean',\n",
    "    'HH_L0.01_std', 'HH_L0.1_std', 'HH_L1_std',\n",
    "    'HH_L0.01_covariance', 'HH_L0.1_covariance', 'HH_L1_covariance',\n",
    "    'HH_L0.01_weight', 'HH_L0.1_weight', 'HH_L1_weight'\n",
    "]\n",
    "\n",
    "data_list = []\n",
    "\n",
    "for csv_file in tqdm(all_files, desc=\"Loading files\"):\n",
    "    try:\n",
    "        df = pd.read_csv(csv_file, usecols=selected_features, nrows=10000)  # Only load useful columns and only first 10,000 rows\n",
    "        \n",
    "        if df.empty:\n",
    "            continue\n",
    "        \n",
    "        if 'benign' in os.path.basename(csv_file).lower():\n",
    "            df['label'] = 0\n",
    "        else:\n",
    "            df['label'] = 1\n",
    "        \n",
    "        data_list.append(df)\n",
    "    except Exception as e:\n",
    "        print(f\"Error reading {csv_file}: {e}\")\n",
    "\n",
    "# Merge all data\n",
    "full_data = pd.concat(data_list, ignore_index=True)\n",
    "full_data = full_data.sample(frac=1, random_state=42).reset_index(drop=True)\n",
    "\n",
    "print(f\"Done loading! Total samples: {full_data.shape[0]}\")\n",
    "\n"
   ]
  },
  {
   "cell_type": "code",
   "execution_count": 6,
   "id": "4ce79031",
   "metadata": {},
   "outputs": [],
   "source": [
    "# Select a few good features\n",
    "selected_features = [\n",
    "    'HH_L0.01_mean', 'HH_L0.1_mean', 'HH_L1_mean',\n",
    "    'HH_L0.01_std', 'HH_L0.1_std', 'HH_L1_std',\n",
    "    'HH_L0.01_covariance', 'HH_L0.1_covariance', 'HH_L1_covariance',\n",
    "    'HH_L0.01_weight', 'HH_L0.1_weight', 'HH_L1_weight'\n",
    "]\n",
    "\n",
    "\n",
    "# Check if features exist\n",
    "for feat in selected_features:\n",
    "    if feat not in full_data.columns:\n",
    "        raise ValueError(f\"Feature {feat} not found in dataset!\")\n",
    "\n",
    "X = full_data[selected_features]\n",
    "y = full_data['label']\n"
   ]
  },
  {
   "cell_type": "code",
   "execution_count": 9,
   "id": "a72a96dd",
   "metadata": {},
   "outputs": [],
   "source": [
    "#scaling\n",
    "scaler = MinMaxScaler()\n",
    "X_scaled = scaler.fit_transform(X)"
   ]
  },
  {
   "cell_type": "code",
   "execution_count": 10,
   "id": "a1728b41",
   "metadata": {},
   "outputs": [],
   "source": [
    " #Step 5: Train-Test Split\n",
    "\n",
    "X_train, X_test, y_train, y_test = train_test_split(\n",
    "    X_scaled, y, test_size=0.3, random_state=42, stratify=y\n",
    ")\n"
   ]
  },
  {
   "cell_type": "code",
   "execution_count": 11,
   "id": "32681cfd",
   "metadata": {},
   "outputs": [],
   "source": [
    "# Step 6: Supervised Learning - Random Forest\n",
    "\n",
    "rf_model = RandomForestClassifier(n_estimators=100, random_state=42)\n",
    "rf_model.fit(X_train, y_train)\n",
    "\n",
    "y_pred = rf_model.predict(X_test)"
   ]
  },
  {
   "cell_type": "code",
   "execution_count": 12,
   "id": "58036d00",
   "metadata": {
    "scrolled": true
   },
   "outputs": [
    {
     "name": "stdout",
     "output_type": "stream",
     "text": [
      "Random Forest Model Results:\n",
      "[[ 29930     70]\n",
      " [    18 221982]]\n",
      "              precision    recall  f1-score   support\n",
      "\n",
      "           0     0.9994    0.9977    0.9985     30000\n",
      "           1     0.9997    0.9999    0.9998    222000\n",
      "\n",
      "    accuracy                         0.9997    252000\n",
      "   macro avg     0.9995    0.9988    0.9992    252000\n",
      "weighted avg     0.9997    0.9997    0.9997    252000\n",
      "\n"
     ]
    }
   ],
   "source": [
    "# Evaluation\n",
    "print(\"Random Forest Model Results:\")\n",
    "print(confusion_matrix(y_test, y_pred))\n",
    "print(classification_report(y_test, y_pred, digits=4))\n"
   ]
  },
  {
   "cell_type": "code",
   "execution_count": 13,
   "id": "3ebcf2f0",
   "metadata": {},
   "outputs": [
    {
     "data": {
      "image/png": "[encoded data removed]",
      "text/plain": [
       "<Figure size 432x288 with 1 Axes>"
      ]
     },
     "metadata": {
      "needs_background": "light"
     },
     "output_type": "display_data"
    }
   ],
   "source": [
    "# Evaluation for Random Forest\n",
    "precision = precision_score(y_test, y_pred)\n",
    "recall = recall_score(y_test, y_pred)\n",
    "f1 = f1_score(y_test, y_pred)\n",
    "accuracy = accuracy_score(y_test, y_pred)\n",
    "\n",
    "metrics = {'Precision': precision, 'Recall': recall, 'F1-Score': f1, 'Accuracy': accuracy}\n",
    "\n",
    "plt.figure()\n",
    "plt.bar(metrics.keys(), metrics.values())\n",
    "plt.title('Random Forest - Evaluation Metrics')\n",
    "plt.ylabel('Score')\n",
    "plt.ylim(0, 1)\n",
    "plt.grid(axis='y')\n",
    "plt.show()\n"
   ]
  },
  {
   "cell_type": "code",
   "execution_count": 14,
   "id": "1b7fabbf",
   "metadata": {},
   "outputs": [],
   "source": [
    "# Step 7: Signature-Based Detection (Simulated)\n",
    "\n",
    "threshold_mean = 0.4\n",
    "threshold_std = 0.4\n",
    "threshold_cov = 0.3\n",
    "\n",
    "# Signature: combine multiple traffic statistics\n",
    "full_data['signature_alert'] = (\n",
    "    ((full_data['HH_L0.01_mean'] > threshold_mean) & (full_data['HH_L0.01_std'] > threshold_std)) |\n",
    "    ((full_data['HH_L0.1_mean'] > threshold_mean) & (full_data['HH_L0.1_std'] > threshold_std)) |\n",
    "    ((full_data['HH_L1_mean'] > threshold_mean) & (full_data['HH_L1_std'] > threshold_std)) |\n",
    "    ((full_data['HH_L0.01_covariance'] > threshold_cov) | (full_data['HH_L0.1_covariance'] > threshold_cov))\n",
    ").astype(int)\n",
    "\n"
   ]
  },
  {
   "cell_type": "code",
   "execution_count": 15,
   "id": "dcc5f234",
   "metadata": {},
   "outputs": [],
   "source": [
    "# Step 8: Anomaly Detection using Isolation Forest\n",
    "\n",
    "X_sampled, y_sampled = resample(X_scaled, y, n_samples=50000, random_state=42)\n",
    "\n",
    "anomaly_detector = IsolationForest(contamination=0.05, random_state=42)  # Increase contamination\n",
    "anomaly_detector.fit(X_scaled)\n",
    "\n",
    "\n",
    "anomaly_preds = anomaly_detector.predict(X_scaled)\n",
    "full_data['anomaly_alert'] = (anomaly_detector.predict(X_scaled) == -1).astype(int)"
   ]
  },
  {
   "cell_type": "code",
   "execution_count": 16,
   "id": "6b559205",
   "metadata": {},
   "outputs": [],
   "source": [
    "# Step 9: Hybrid Detection (Signature OR Anomaly)\n",
    "full_data['hybrid_alert'] = (\n",
    "    (full_data['signature_alert'] == 1) | (full_data['anomaly_alert'] == 1)\n",
    ").astype(int)\n"
   ]
  },
  {
   "cell_type": "code",
   "execution_count": 17,
   "id": "84046636",
   "metadata": {
    "scrolled": false
   },
   "outputs": [
    {
     "name": "stdout",
     "output_type": "stream",
     "text": [
      "[1 0]\n",
      "[0 1]\n"
     ]
    }
   ],
   "source": [
    "\n",
    "print(full_data['label'].unique())\n",
    "print(full_data['hybrid_alert'].unique())\n"
   ]
  },
  {
   "cell_type": "code",
   "execution_count": 18,
   "id": "4b979a2d",
   "metadata": {},
   "outputs": [
    {
     "name": "stdout",
     "output_type": "stream",
     "text": [
      "\n",
      "Hybrid Detection Results:\n",
      "[[ 37749  62251]\n",
      " [603659 136341]]\n",
      "              precision    recall  f1-score   support\n",
      "\n",
      "           0     0.0589    0.3775    0.1018    100000\n",
      "           1     0.6865    0.1842    0.2905    740000\n",
      "\n",
      "    accuracy                         0.2072    840000\n",
      "   macro avg     0.3727    0.2809    0.1962    840000\n",
      "weighted avg     0.6118    0.2072    0.2681    840000\n",
      "\n"
     ]
    }
   ],
   "source": [
    "print(\"\\nHybrid Detection Results:\")\n",
    "print(confusion_matrix(full_data['label'], full_data['hybrid_alert']))\n",
    "print(classification_report(full_data['label'], full_data['hybrid_alert'], digits=4))"
   ]
  },
  {
   "cell_type": "code",
   "execution_count": 19,
   "id": "b2043b66",
   "metadata": {},
   "outputs": [
    {
     "data": {
      "image/png": "[encoded data removed]",
      "text/plain": [
       "<Figure size 432x288 with 1 Axes>"
      ]
     },
     "metadata": {
      "needs_background": "light"
     },
     "output_type": "display_data"
    }
   ],
   "source": [
    "# Evaluation for Hybrid Detection\n",
    "precision = precision_score(full_data['label'], full_data['hybrid_alert'])\n",
    "recall = recall_score(full_data['label'], full_data['hybrid_alert'])\n",
    "f1 = f1_score(full_data['label'], full_data['hybrid_alert'])\n",
    "accuracy = accuracy_score(full_data['label'], full_data['hybrid_alert'])\n",
    "\n",
    "metrics = {'Precision': precision, 'Recall': recall, 'F1-Score': f1, 'Accuracy': accuracy}\n",
    "\n",
    "plt.figure()\n",
    "plt.bar(metrics.keys(), metrics.values())\n",
    "plt.title('Hybrid Detection - Evaluation Metrics')\n",
    "plt.ylabel('Score')\n",
    "plt.ylim(0, 1)\n",
    "plt.grid(axis='y')\n",
    "plt.show()\n"
   ]
  },
  {
   "cell_type": "code",
   "execution_count": 20,
   "id": "194b6561",
   "metadata": {},
   "outputs": [
    {
     "name": "stdout",
     "output_type": "stream",
     "text": [
      "\n",
      " Supervised Federated Learning Results:\n",
      "[[ 29921     79]\n",
      " [    41 221959]]\n",
      "              precision    recall  f1-score   support\n",
      "\n",
      "           0     0.9986    0.9974    0.9980     30000\n",
      "           1     0.9996    0.9998    0.9997    222000\n",
      "\n",
      "    accuracy                         0.9995    252000\n",
      "   macro avg     0.9991    0.9986    0.9989    252000\n",
      "weighted avg     0.9995    0.9995    0.9995    252000\n",
      "\n"
     ]
    },
    {
     "data": {
      "image/png": "[encoded data removed]",
      "text/plain": [
       "<Figure size 432x288 with 1 Axes>"
      ]
     },
     "metadata": {
      "needs_background": "light"
     },
     "output_type": "display_data"
    }
   ],
   "source": [
    "\n",
    "# Step 11: Federated Learning Simulation\n",
    "num_clients = 3\n",
    "\n",
    "# Split only training data among clients\n",
    "client_data = np.array_split(X_train, num_clients)\n",
    "client_labels = np.array_split(y_train, num_clients)\n",
    "\n",
    "client_models = []\n",
    "\n",
    "# Train RandomForestClassifier at each client\n",
    "for idx in range(num_clients):\n",
    "    clf = RandomForestClassifier(n_estimators=100, random_state=idx)\n",
    "    clf.fit(client_data[idx], client_labels[idx])\n",
    "    client_models.append(clf)\n",
    "\n",
    "# Clients predict on common test data\n",
    "votes = np.zeros((X_test.shape[0], num_clients))\n",
    "\n",
    "for idx, model in enumerate(client_models):\n",
    "    client_preds = model.predict(X_test)\n",
    "    votes[:, idx] = client_preds\n",
    "\n",
    "# Majority voting\n",
    "federated_preds = (votes.sum(axis=1) >= (num_clients / 2)).astype(int)\n",
    "\n",
    "# Evaluation\n",
    "print(\"\\n Supervised Federated Learning Results:\")\n",
    "print(confusion_matrix(y_test, federated_preds))\n",
    "print(classification_report(y_test, federated_preds, digits=4))\n",
    "\n",
    "# Plotting Federated Learning Metrics\n",
    "fed_precision = precision_score(y_test, federated_preds)\n",
    "fed_recall = recall_score(y_test, federated_preds)\n",
    "fed_f1 = f1_score(y_test, federated_preds)\n",
    "fed_accuracy = accuracy_score(y_test, federated_preds)\n",
    "\n",
    "fed_metrics = {'Precision': fed_precision, 'Recall': fed_recall, 'F1-Score': fed_f1, 'Accuracy': fed_accuracy}\n",
    "\n",
    "plt.figure()\n",
    "plt.bar(fed_metrics.keys(), fed_metrics.values())\n",
    "plt.title('Federated Learning - Evaluation Metrics (Supervised)')\n",
    "plt.ylabel('Score')\n",
    "plt.ylim(0, 1)\n",
    "plt.grid(axis='y')\n",
    "plt.show()\n",
    "\n",
    "\n"
   ]
  },
  {
   "cell_type": "code",
   "execution_count": null,
   "id": "702575a6",
   "metadata": {},
   "outputs": [],
   "source": []
  }
 ],
 "metadata": {
  "kernelspec": {
   "display_name": "Python 3",
   "language": "python",
   "name": "python3"
  },
  "language_info": {
   "codemirror_mode": {
    "name": "ipython",
    "version": 3
   },
   "file_extension": ".py",
   "mimetype": "text/x-python",
   "name": "python",
   "nbconvert_exporter": "python",
   "pygments_lexer": "ipython3",
   "version": "3.8.8"
  }
 },
 "nbformat": 4,
 "nbformat_minor": 5
}
